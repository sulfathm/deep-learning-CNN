{
  "nbformat": 4,
  "nbformat_minor": 0,
  "metadata": {
    "colab": {
      "provenance": []
    },
    "kernelspec": {
      "name": "python3",
      "display_name": "Python 3"
    },
    "language_info": {
      "name": "python"
    }
  },
  "cells": [
    {
      "cell_type": "code",
      "execution_count": null,
      "metadata": {
        "id": "ymeGh-HwKqzE"
      },
      "outputs": [],
      "source": [
        "import cv2\n",
        "from glob import glob\n",
        "import pathlib\n",
        "import numpy as np\n",
        "import pandas as pd\n",
        "import tensorflow as tf\n",
        "import matplotlib.pyplot as plt"
      ]
    },
    {
      "cell_type": "code",
      "source": [
        "\n"
      ],
      "metadata": {
        "id": "sv9_fqHWLKjD"
      },
      "execution_count": null,
      "outputs": []
    },
    {
      "cell_type": "code",
      "source": [
        "from tensorflow.keras import Sequential\n",
        "#from tensorflow.keras.layers import Flatten,Dense,Conv3D,MaxPool3D\n",
        "from tensorflow.keras.optimizers import Adam\n",
        "from tensorflow.keras.losses import SparseCategoricalCrossentropy"
      ],
      "metadata": {
        "id": "ad-A_tfGLgg2"
      },
      "execution_count": null,
      "outputs": []
    },
    {
      "cell_type": "code",
      "source": [
        "disease_path=pathlib.Path(\"/content/drive/MyDrive/cnn/medical leaf\")"
      ],
      "metadata": {
        "id": "EMgdP8LNNFve"
      },
      "execution_count": null,
      "outputs": []
    },
    {
      "cell_type": "code",
      "source": [
        "a=list(disease_path.glob(\"Arive-Dantu/*.jpg\"))\n",
        "b=list(disease_path.glob('Basale/*.jpg'))\n",
        "c=list(disease_path.glob('Jackfruit/*.jpg'))\n",
        "\n",
        "d=list(disease_path.glob('Neem/*.jpg'))\n",
        "e=list(disease_path.glob('Roxburgh fig/*.jpg'))\n",
        "f=list(disease_path.glob('Sinesis/*.jpg'))\n",
        "g=list(disease_path.glob('jasmine/*.jpg'))\n",
        "h=list(disease_path.glob('karanda/*.jpg'))\n",
        "i=list(disease_path.glob('mustard/*.jpg'))\n",
        "j=list(disease_path.glob('peepal/*.jpg'))"
      ],
      "metadata": {
        "id": "YGJ6tBDGNlR8"
      },
      "execution_count": null,
      "outputs": []
    },
    {
      "cell_type": "code",
      "source": [
        "len(a),len(b),len(c),len(d),len(e),len(f),len(g),len(h),len(i),len(j)"
      ],
      "metadata": {
        "colab": {
          "base_uri": "https://localhost:8080/"
        },
        "id": "6-Tm4bFXPvDl",
        "outputId": "5e3b0e61-713f-48d1-a9bb-d998f15fe030"
      },
      "execution_count": null,
      "outputs": [
        {
          "output_type": "execute_result",
          "data": {
            "text/plain": [
              "(4, 113, 56, 60, 50, 43, 71, 74, 34, 63)"
            ]
          },
          "metadata": {},
          "execution_count": 16
        }
      ]
    },
    {
      "cell_type": "code",
      "source": [
        "disease_dict={\"Arive-dantu\":a,\n",
        "              \"Basale\":b,\n",
        "              \"Jackfruite\":c,\n",
        "              \"Neem\":d,\n",
        "              \"Roxburg fig\":e,\n",
        "              \"Sinesis\":f,\n",
        "              \"jasmine\":g,\n",
        "              \"Karanda\":h,\n",
        "              \"mustard\":i,\n",
        "              \"peepal\":j}\n",
        "disease_class={\"Arive-dantu\":0,\n",
        "              \"Basale\":1,\n",
        "              \"Jackfruite\":2,\n",
        "              \"Neem\":3,\n",
        "              \"Roxburg fig\":4,\n",
        "              \"Sinesis\":5,\n",
        "              \"jasmine\":6,\n",
        "              \"Karanda\":7,\n",
        "              \"mustard\":8,\n",
        "              \"peepal\":9}"
      ],
      "metadata": {
        "id": "nXBo1OR4QOVb"
      },
      "execution_count": null,
      "outputs": []
    },
    {
      "cell_type": "code",
      "source": [
        "x=[]\n",
        "y=[]"
      ],
      "metadata": {
        "id": "XyOeypbTTZB-"
      },
      "execution_count": null,
      "outputs": []
    },
    {
      "cell_type": "code",
      "source": [
        "for i in disease_dict:\n",
        "  disease_name=i\n",
        "  disease_path_list=disease_dict[disease_name]\n",
        "  for path in disease_path_list:\n",
        "    img=cv2.imread(str(path))\n",
        "    img=cv2.resize(img,(224,224))\n",
        "    img=img/255\n",
        "    x.append(img)\n",
        "    cls=disease_class[disease_name]\n",
        "    y.append(cls)"
      ],
      "metadata": {
        "id": "Xx-DK0WjTbas"
      },
      "execution_count": null,
      "outputs": []
    },
    {
      "cell_type": "code",
      "source": [
        "len(x)"
      ],
      "metadata": {
        "colab": {
          "base_uri": "https://localhost:8080/"
        },
        "id": "miCmjeAebTsr",
        "outputId": "a400b1ed-3b0c-4728-fa19-7ca3599e84ed"
      },
      "execution_count": null,
      "outputs": [
        {
          "output_type": "execute_result",
          "data": {
            "text/plain": [
              "568"
            ]
          },
          "metadata": {},
          "execution_count": 26
        }
      ]
    },
    {
      "cell_type": "code",
      "source": [
        "x=np.array(x)\n",
        "y=np.array(y)"
      ],
      "metadata": {
        "id": "sLFXFV-7cWNx"
      },
      "execution_count": null,
      "outputs": []
    },
    {
      "cell_type": "code",
      "source": [
        "from sklearn.model_selection import train_test_split"
      ],
      "metadata": {
        "id": "LCc1pv17ccuL"
      },
      "execution_count": null,
      "outputs": []
    },
    {
      "cell_type": "code",
      "source": [
        "x_train,x_test,y_train,y_test=train_test_split(x,y,train_size=0.75,random_state=1)\n"
      ],
      "metadata": {
        "id": "foHG5gGYcrJ6"
      },
      "execution_count": null,
      "outputs": []
    },
    {
      "cell_type": "code",
      "source": [
        "len(x_train),len(y_train),len(x_test),len(y_test)"
      ],
      "metadata": {
        "colab": {
          "base_uri": "https://localhost:8080/"
        },
        "id": "xtEd-I8lgIVB",
        "outputId": "ada97740-0a00-4c83-f2f0-dda92d5dacfd"
      },
      "execution_count": null,
      "outputs": [
        {
          "output_type": "execute_result",
          "data": {
            "text/plain": [
              "(426, 426, 142, 142)"
            ]
          },
          "metadata": {},
          "execution_count": 30
        }
      ]
    },
    {
      "cell_type": "code",
      "source": [
        "x_train.shape"
      ],
      "metadata": {
        "colab": {
          "base_uri": "https://localhost:8080/"
        },
        "id": "1POSqbBUgf5U",
        "outputId": "71b99ff8-7988-4a88-d290-6e322127b4df"
      },
      "execution_count": null,
      "outputs": [
        {
          "output_type": "execute_result",
          "data": {
            "text/plain": [
              "(426, 224, 224, 3)"
            ]
          },
          "metadata": {},
          "execution_count": 31
        }
      ]
    },
    {
      "cell_type": "code",
      "source": [
        "x_train.shape,x_test.shape\n"
      ],
      "metadata": {
        "colab": {
          "base_uri": "https://localhost:8080/"
        },
        "id": "5ncf1xxCgjk7",
        "outputId": "0602f11d-94d8-4296-9895-5e3af983710a"
      },
      "execution_count": null,
      "outputs": [
        {
          "output_type": "execute_result",
          "data": {
            "text/plain": [
              "((426, 224, 224, 3), (142, 224, 224, 3))"
            ]
          },
          "metadata": {},
          "execution_count": 32
        }
      ]
    },
    {
      "cell_type": "code",
      "source": [
        "# from tensorflow.keras.applications.mobilenet_v2 import MobileNetV2"
      ],
      "metadata": {
        "id": "Pi8lZvPzgori"
      },
      "execution_count": null,
      "outputs": []
    },
    {
      "cell_type": "code",
      "source": [
        "# base_model = tf.keras.applications.MobileNetV2(input_shape=(32,32,3),include_top=False,weights='imagenet')"
      ],
      "metadata": {
        "id": "5JkiWlrTg6Na"
      },
      "execution_count": null,
      "outputs": []
    },
    {
      "cell_type": "code",
      "source": [
        "# print(\"[INFO] summary for base model...\")\n",
        "# print(base_model.summary())"
      ],
      "metadata": {
        "id": "tUWkgtN3hhm6"
      },
      "execution_count": null,
      "outputs": []
    },
    {
      "cell_type": "code",
      "source": [
        "from tensorflow.keras.layers import MaxPooling2D\n",
        "from keras.layers.core import Dropout\n",
        "from tensorflow.keras import datasets,layers,models\n",
        "model=models.Sequential()\n",
        "model.add(layers.Conv2D(32,(3,3),activation='relu',input_shape=(224,224,3)))\n",
        "model.add(layers.MaxPooling2D((2,2)))\n",
        "model.add(layers.Conv2D(64,(3,3),activation='relu'))\n",
        "model.add(layers.MaxPooling2D((2,2)))\n",
        "model.add(layers.Conv2D(64,(3,3),activation='relu'))\n",
        "\n",
        "\n",
        "\n",
        "\n",
        "model.add(layers.Flatten())\n",
        "model.add(layers.Dense(64,activation='relu'))\n",
        "model.add(layers.Dense(10,activation='softmax'))"
      ],
      "metadata": {
        "id": "mKODVWaLh0r1"
      },
      "execution_count": null,
      "outputs": []
    },
    {
      "cell_type": "code",
      "source": [
        "# model.compile(optimizer='adam',\n",
        "#               loss=tf.keras.losses.SparseCategoricalCrossentropy(from_logits=True),\n",
        "#               metrics=['accuracy'])\n",
        "\n",
        "# # history=model.fit(xtrain,ytrain,epochs=15,validation_data=(xtest,ytest))\n",
        "\n",
        "# #model_hist=model.fit(xtrain,ytrain,epochs=5,validation_data=(xtest,ytest),batch_size=180)\n",
        "\n",
        "\n",
        "\n",
        "# history = model.fit(xtrain,epochs=15,\n",
        "#                         validation_data=ytrain)"
      ],
      "metadata": {
        "id": "ob6Ipwbnk-VB"
      },
      "execution_count": null,
      "outputs": []
    },
    {
      "cell_type": "code",
      "source": [
        "model.compile(optimizer='adam',\n",
        "              loss=tf.keras.losses.SparseCategoricalCrossentropy(from_logits=True),\n",
        "              metrics=['accuracy'])\n",
        "history=model.fit(x_train,y_train,epochs=25,\n",
        "                  validation_data=(x_test,y_test))"
      ],
      "metadata": {
        "colab": {
          "base_uri": "https://localhost:8080/"
        },
        "id": "jzPB4Daoltjb",
        "outputId": "5e18845d-285a-4d00-912e-4fe83c390004"
      },
      "execution_count": null,
      "outputs": [
        {
          "output_type": "stream",
          "name": "stdout",
          "text": [
            "Epoch 1/25\n"
          ]
        },
        {
          "output_type": "stream",
          "name": "stderr",
          "text": [
            "/usr/local/lib/python3.8/dist-packages/tensorflow/python/util/dispatch.py:1082: UserWarning: \"`sparse_categorical_crossentropy` received `from_logits=True`, but the `output` argument was produced by a sigmoid or softmax activation and thus does not represent logits. Was this intended?\"\n",
            "  return dispatch_target(*args, **kwargs)\n"
          ]
        },
        {
          "output_type": "stream",
          "name": "stdout",
          "text": [
            "12/14 [========================>.....] - ETA: 6s - loss: 2.3702 - accuracy: 0.2969 "
          ]
        },
        {
          "output_type": "stream",
          "name": "stderr",
          "text": [
            "\n",
            "KeyboardInterrupt\n",
            "\n"
          ]
        }
      ]
    },
    {
      "cell_type": "code",
      "source": [
        "model.save(\"weights.h5\")"
      ],
      "metadata": {
        "id": "3eSnfCqloz9N"
      },
      "execution_count": null,
      "outputs": []
    },
    {
      "cell_type": "code",
      "source": [
        "from tensorflow.keras.preprocessing import image\n",
        "# testing the model\n",
        "\n",
        "def testing_image(image_directory):\n",
        "  test_image=image.load_img(image_directory,target_size=(224,224))\n",
        "  test_image=image.img_to_array(test_image)\n",
        "  test_image=np.expand_dims(test_image,axis=0)\n",
        "  test_image=test_image/255\n",
        "  result=model.predict(x=test_image)\n",
        "  print(result)\n",
        "  if np.argmax(result)==0:\n",
        "    prediction='Arive-dantu'\n",
        "  elif np.argmax(result)==1:        \n",
        "    prediction='Basale' \n",
        "  elif np.argmax(result)==2:\n",
        "    prediction='Jackfruite'\n",
        "  elif np.argmax(result)==3:\n",
        "    prediction='Neem'\n",
        "  elif np.argmax(result)==4:\n",
        "    prediction='Roxburg fig'\n",
        "  elif np.argmax(result)==5:\n",
        "    prediction='Sinesis'\n",
        "  elif np.argmax(result)==6:\n",
        "    prediction='jasmine'\n",
        "  elif np.argmax(result)==7:\n",
        "    prediction=\"Karanda\"\n",
        "  elif np.argmax(result)==7:\n",
        "    prediction=\"mustard\"\n",
        "  else:\n",
        "    prediction=\"peepal\"\n",
        "  return prediction"
      ],
      "metadata": {
        "id": "X4xY8DFtsPwC"
      },
      "execution_count": null,
      "outputs": []
    },
    {
      "cell_type": "code",
      "source": [
        "print(testing_image('/content/drive/MyDrive/cnn/jasmine/J-S-025.jpg'))"
      ],
      "metadata": {
        "id": "oNTjVaE7sZp-"
      },
      "execution_count": null,
      "outputs": []
    },
    {
      "cell_type": "code",
      "source": [
        "from sklearn.metrics import confusion_matrix"
      ],
      "metadata": {
        "id": "Bv30zbU2tVnc"
      },
      "execution_count": null,
      "outputs": []
    },
    {
      "cell_type": "code",
      "source": [
        "y_pred=model.predict_generator(x_test)"
      ],
      "metadata": {
        "id": "qoss3Tp6vFmW"
      },
      "execution_count": null,
      "outputs": []
    },
    {
      "cell_type": "code",
      "source": [
        "y_pred=np.argmax(y_pred,axis=1)"
      ],
      "metadata": {
        "id": "oT2uWrMnvMY_"
      },
      "execution_count": null,
      "outputs": []
    },
    {
      "cell_type": "code",
      "source": [
        "print(\"confusion matrix\")\n",
        "\n",
        "c=confusion_matrix(y_test,y_pred)\n",
        "# cm=confusion_matrix(np.where(y_test),y_pred)"
      ],
      "metadata": {
        "id": "pSbOpADHvTHo"
      },
      "execution_count": null,
      "outputs": []
    }
  ]
}