{
  "cells": [
    {
      "cell_type": "code",
      "execution_count": null,
      "metadata": {
        "id": "PC42VdyI_bTE"
      },
      "outputs": [],
      "source": [
        "import cv2\n",
        "from glob import glob\n",
        "import pathlib\n",
        "import numpy as np\n",
        "import pandas as pd\n",
        "import tensorflow as tf\n",
        "import matplotlib.pyplot as plt"
      ]
    },
    {
      "cell_type": "code",
      "execution_count": null,
      "metadata": {
        "id": "CV9p_wf6_k87"
      },
      "outputs": [],
      "source": [
        "from tensorflow.keras import Sequential\n",
        "from tensorflow.keras.layers import Flatten,Dense,Conv3D,MaxPool3D\n",
        "from tensorflow.keras.optimizers import Adam\n",
        "from tensorflow.keras.losses import SparseCategoricalCrossentropy"
      ]
    },
    {
      "cell_type": "code",
      "execution_count": null,
      "metadata": {
        "id": "lak9fPHU_tw8"
      },
      "outputs": [],
      "source": [
        "fish=pathlib.Path(\"/content/drive/MyDrive/cnn/fish/fish\")"
      ]
    },
    {
      "cell_type": "code",
      "execution_count": null,
      "metadata": {
        "id": "ymJDu0hp_9_H"
      },
      "outputs": [],
      "source": [
        "a=list(fish.glob(\"Bangus/*.jpg\"))\n",
        "b=list(fish.glob('Catfish/*.jpg'))\n",
        "c=list(fish.glob('Freshwater Eel/*.jpg'))\n",
        "\n",
        "d=list(fish.glob('Goby/*.jpg'))\n",
        "e=list(fish.glob('Gold Fish/*.jpg'))\n",
        "f=list(fish.glob('Green Spotted Puffer/*.jpg'))\n",
        "g=list(fish.glob('Jaguar Gapote/*.jpg'))\n",
        "h=list(fish.glob('Silver Barb/*.jpg'))\n",
        "i=list(fish.glob('Snakehead/*.jpg'))\n",
        "j=list(fish.glob('Tilapia/*.jpg'))"
      ]
    },
    {
      "cell_type": "code",
      "execution_count": null,
      "metadata": {
        "colab": {
          "base_uri": "https://localhost:8080/"
        },
        "id": "tZ77CLaXAsSx",
        "outputId": "e5a625bb-bbe8-41e0-9c2b-0550e195bad2"
      },
      "outputs": [
        {
          "data": {
            "text/plain": [
              "(171, 314, 267, 595, 200, 107, 229, 327, 232, 215)"
            ]
          },
          "execution_count": 5,
          "metadata": {},
          "output_type": "execute_result"
        }
      ],
      "source": [
        "len(a),len(b),len(c),len(d),len(e),len(f),len(g),len(h),len(i),len(j)"
      ]
    },
    {
      "cell_type": "code",
      "execution_count": null,
      "metadata": {
        "id": "GAq7_2fQAvdC"
      },
      "outputs": [],
      "source": [
        "fish_dict={\"Bangus\":a,\n",
        "              \"Catfish\":b,\n",
        "              \"Freshwater Eel\":c,\n",
        "              \"Goby\":d,\n",
        "              \"Gold Fish\":e,\n",
        "              \"Green Spotted Puffer\":f,\n",
        "              \"Jaguar Gapote\":g,\n",
        "              \"Silver Barb\":h,\n",
        "              \"Snakehead\":i,\n",
        "              \"Tilapia\":j}\n",
        "fish_class={\"Bangus\":0,\n",
        "              \"Catfish\":1,\n",
        "              \"Freshwater Eel\":2,\n",
        "              \"Goby\":3,\n",
        "              \"Gold Fish\":4,\n",
        "              \"Green Spotted Puffer\":5,\n",
        "              \"Jaguar Gapote\":6,\n",
        "              \"Silver Barb\":7,\n",
        "              \"Snakehead\":8,\n",
        "              \"Tilapia\":9}"
      ]
    },
    {
      "cell_type": "code",
      "execution_count": null,
      "metadata": {
        "id": "35r7aKQcBgaM"
      },
      "outputs": [],
      "source": [
        "x=[]\n",
        "y=[]"
      ]
    },
    {
      "cell_type": "code",
      "execution_count": null,
      "metadata": {
        "colab": {
          "background_save": true
        },
        "id": "NX13YsVEBjkA"
      },
      "outputs": [],
      "source": [
        "for i in fish_dict:\n",
        "  fish_name=i\n",
        "  fish_path_list=fish_dict[fish_name]\n",
        "  for path in fish_path_list:\n",
        "    img=cv2.imread(str(path))\n",
        "    img=cv2.resize(img,(224,224))\n",
        "    img=img/255\n",
        "    x.append(img)\n",
        "    cls=fish_class[fish_name]\n",
        "    y.append(cls)"
      ]
    },
    {
      "cell_type": "code",
      "execution_count": null,
      "metadata": {
        "colab": {
          "background_save": true
        },
        "id": "-8Q70B4FB0SN",
        "outputId": "1e6d60a9-5764-4f69-e21e-2c8f8996b852"
      },
      "outputs": [
        {
          "data": {
            "text/plain": [
              "2657"
            ]
          },
          "execution_count": 9,
          "metadata": {},
          "output_type": "execute_result"
        }
      ],
      "source": [
        "len(x)"
      ]
    },
    {
      "cell_type": "code",
      "execution_count": null,
      "metadata": {
        "colab": {
          "background_save": true
        },
        "id": "SepIi-uIDNJW"
      },
      "outputs": [],
      "source": [
        "x=np.array(x)\n",
        "y=np.array(y)"
      ]
    },
    {
      "cell_type": "code",
      "execution_count": null,
      "metadata": {
        "colab": {
          "background_save": true
        },
        "id": "HQrYITjMDQm8"
      },
      "outputs": [],
      "source": [
        "from sklearn.model_selection import train_test_split"
      ]
    },
    {
      "cell_type": "code",
      "execution_count": null,
      "metadata": {
        "colab": {
          "background_save": true
        },
        "id": "06mvyyFRDUMT"
      },
      "outputs": [],
      "source": [
        "X_train, X_test, y_train, y_test = train_test_split(x, y, test_size=0.33, random_state=42)"
      ]
    },
    {
      "cell_type": "code",
      "execution_count": null,
      "metadata": {
        "colab": {
          "background_save": true
        },
        "id": "8AOZB5HoDYQQ",
        "outputId": "f75d3096-7dd5-4ba5-8952-a5af42cc3700"
      },
      "outputs": [
        {
          "data": {
            "text/plain": [
              "(1780, 1780, 877, 877)"
            ]
          },
          "execution_count": 13,
          "metadata": {},
          "output_type": "execute_result"
        }
      ],
      "source": [
        "len(X_train),len(y_train),len(X_test),len(y_test)"
      ]
    },
    {
      "cell_type": "code",
      "execution_count": null,
      "metadata": {
        "colab": {
          "background_save": true
        },
        "id": "8URnsZEjDe08",
        "outputId": "dc4bcac6-8297-481a-dc1a-0768770a4ea0"
      },
      "outputs": [
        {
          "data": {
            "text/plain": [
              "(1780, 224, 224, 3)"
            ]
          },
          "execution_count": 14,
          "metadata": {},
          "output_type": "execute_result"
        }
      ],
      "source": [
        "X_train.shape"
      ]
    },
    {
      "cell_type": "code",
      "execution_count": null,
      "metadata": {
        "colab": {
          "background_save": true
        },
        "id": "9Kczd0BVDjMS",
        "outputId": "8de8045a-b002-4554-c2a9-1863dd2ae7c3"
      },
      "outputs": [
        {
          "data": {
            "text/plain": [
              "((1780, 224, 224, 3), (877, 224, 224, 3))"
            ]
          },
          "execution_count": 15,
          "metadata": {},
          "output_type": "execute_result"
        }
      ],
      "source": [
        "X_train.shape,X_test.shape"
      ]
    },
    {
      "cell_type": "code",
      "execution_count": null,
      "metadata": {
        "colab": {
          "background_save": true
        },
        "id": "LPs0kDaWDnin"
      },
      "outputs": [],
      "source": [
        "from tensorflow.keras.layers import MaxPooling2D\n",
        "from keras.layers.core import Dropout\n",
        "from tensorflow.keras import datasets,layers,models\n",
        "model=models.Sequential()\n",
        "model.add(layers.Conv2D(32,(3,3),activation='relu',input_shape=(224,224,3)))\n",
        "model.add(layers.MaxPooling2D((2,2)))\n",
        "model.add(layers.Conv2D(64,(3,3),activation='relu'))\n",
        "model.add(layers.MaxPooling2D((2,2)))\n",
        "model.add(layers.Conv2D(64,(3,3),activation='relu'))\n",
        "\n",
        "\n",
        "\n",
        "\n",
        "model.add(layers.Flatten())\n",
        "model.add(layers.Dense(64,activation='relu'))\n",
        "model.add(layers.Dense(10,activation='softmax'))"
      ]
    },
    {
      "cell_type": "code",
      "execution_count": null,
      "metadata": {
        "id": "OAThb4NtD1O1",
        "colab": {
          "base_uri": "https://localhost:8080/"
        },
        "outputId": "de8bbfcb-6963-4908-fa86-c687b9a824cd"
      },
      "outputs": [
        {
          "metadata": {
            "tags": null
          },
          "name": "stdout",
          "output_type": "stream",
          "text": [
            "Epoch 1/10\n"
          ]
        },
        {
          "metadata": {
            "tags": null
          },
          "name": "stderr",
          "output_type": "stream",
          "text": [
            "/usr/local/lib/python3.8/dist-packages/keras/backend.py:5585: UserWarning: \"`sparse_categorical_crossentropy` received `from_logits=True`, but the `output` argument was produced by a Softmax activation and thus does not represent logits. Was this intended?\n",
            "  output, from_logits = _get_logits(\n"
          ]
        },
        {
          "output_type": "stream",
          "name": "stdout",
          "text": [
            "56/56 [==============================] - 219s 4s/step - loss: 2.3333 - accuracy: 0.2764 - val_loss: 1.8297 - val_accuracy: 0.3546\n",
            "Epoch 2/10\n",
            "56/56 [==============================] - 207s 4s/step - loss: 1.6254 - accuracy: 0.4404 - val_loss: 1.5911 - val_accuracy: 0.4481\n",
            "Epoch 3/10\n",
            "56/56 [==============================] - 222s 4s/step - loss: 1.3539 - accuracy: 0.5410 - val_loss: 1.4148 - val_accuracy: 0.5644\n",
            "Epoch 4/10\n",
            "56/56 [==============================] - 221s 4s/step - loss: 0.9947 - accuracy: 0.6556 - val_loss: 1.5047 - val_accuracy: 0.5393\n",
            "Epoch 5/10\n",
            "56/56 [==============================] - 223s 4s/step - loss: 0.6770 - accuracy: 0.7708 - val_loss: 1.4870 - val_accuracy: 0.5667\n",
            "Epoch 6/10\n",
            "56/56 [==============================] - 206s 4s/step - loss: 0.3735 - accuracy: 0.8899 - val_loss: 1.9293 - val_accuracy: 0.5393\n",
            "Epoch 7/10\n",
            "56/56 [==============================] - 223s 4s/step - loss: 0.1662 - accuracy: 0.9522 - val_loss: 2.0330 - val_accuracy: 0.5804\n",
            "Epoch 8/10\n",
            "56/56 [==============================] - 226s 4s/step - loss: 0.0831 - accuracy: 0.9815 - val_loss: 2.6674 - val_accuracy: 0.5530\n",
            "Epoch 9/10\n",
            "56/56 [==============================] - 205s 4s/step - loss: 0.0408 - accuracy: 0.9916 - val_loss: 2.8684 - val_accuracy: 0.5998\n",
            "Epoch 10/10\n",
            "56/56 [==============================] - 207s 4s/step - loss: 0.0126 - accuracy: 0.9983 - val_loss: 3.1609 - val_accuracy: 0.5941\n"
          ]
        }
      ],
      "source": [
        "model.compile(optimizer='adam',\n",
        "              loss=tf.keras.losses.SparseCategoricalCrossentropy(from_logits=True),\n",
        "              metrics=['accuracy'])\n",
        "history=model.fit(X_train,y_train,epochs=10,\n",
        "                  validation_data=(X_test,y_test))"
      ]
    },
    {
      "cell_type": "code",
      "execution_count": null,
      "metadata": {
        "id": "iByGMEMjD5tA"
      },
      "outputs": [],
      "source": [
        " model.save(\"weights.h5\")"
      ]
    },
    {
      "cell_type": "code",
      "execution_count": null,
      "metadata": {
        "id": "fJrnFNvLD9Jb"
      },
      "outputs": [],
      "source": [
        "from tensorflow.keras.preprocessing import image\n",
        "# testing the model\n",
        "\n",
        "def testing_image(image_directory):\n",
        "  test_image=image.load_img(image_directory,target_size=(224,224))\n",
        "  test_image=image.img_to_array(test_image)\n",
        "  test_image=np.expand_dims(test_image,axis=0)\n",
        "  test_image=test_image/255\n",
        "  result=model.predict(x=test_image)\n",
        "  print(result)\n",
        "  if np.argmax(result)==0:\n",
        "    prediction='Bangus'\n",
        "  elif np.argmax(result)==1:        \n",
        "    prediction='Catfish' \n",
        "  elif np.argmax(result)==2:\n",
        "    prediction='Freshwater Eel'\n",
        "  elif np.argmax(result)==3:\n",
        "    prediction='Goby'\n",
        "  elif np.argmax(result)==4:\n",
        "    prediction='Gold Fish'\n",
        "  elif np.argmax(result)==5:\n",
        "    prediction='Green spotted fish'\n",
        "  elif np.argmax(result)==6:\n",
        "    prediction='jaguar gapote'\n",
        "  elif np.argmax(result)==7:\n",
        "    prediction=\"Silver Barb\"\n",
        "  elif np.argmax(result)==8:\n",
        "    prediction=\"Snakehead\"\n",
        "  else:\n",
        "    prediction=\"Tilapia\"\n",
        "  return prediction"
      ]
    },
    {
      "cell_type": "code",
      "execution_count": null,
      "metadata": {
        "id": "pAHMid78Jl4g",
        "colab": {
          "base_uri": "https://localhost:8080/"
        },
        "outputId": "66d8df5c-8f7d-4853-aad6-b421cd045465"
      },
      "outputs": [
        {
          "output_type": "stream",
          "name": "stdout",
          "text": [
            "1/1 [==============================] - 0s 173ms/step\n",
            "[[1.5995830e-20 9.9999988e-01 5.0991040e-18 1.4359246e-07 9.3451838e-34\n",
            "  2.3301209e-23 7.3713745e-15 4.4632082e-24 3.0004192e-13 6.3098750e-25]]\n",
            "Catfish\n"
          ]
        }
      ],
      "source": [
        "print(testing_image('/content/drive/MyDrive/cnn/fish/fish/Catfish/01376ef0-db00-465e-ad66-e3a3a2b057d0-950mm.jpg'))"
      ]
    },
    {
      "cell_type": "code",
      "execution_count": null,
      "metadata": {
        "id": "z2RxdBqfKLuX",
        "colab": {
          "base_uri": "https://localhost:8080/"
        },
        "outputId": "e8ca8f25-da72-4162-8e14-a45bd5831aae"
      },
      "outputs": [
        {
          "output_type": "stream",
          "name": "stdout",
          "text": [
            "1/1 [==============================] - 0s 52ms/step\n",
            "[[4.8848057e-16 1.6560067e-05 8.5564989e-06 1.0206496e-07 2.5501475e-23\n",
            "  1.5383198e-11 1.6367300e-04 2.8867546e-15 9.9981111e-01 2.3943647e-10]]\n",
            "Snakehead\n"
          ]
        }
      ],
      "source": [
        "print(testing_image('/content/drive/MyDrive/cnn/fish/fish/Snakehead/Picture11.jpg'))"
      ]
    },
    {
      "cell_type": "code",
      "execution_count": null,
      "metadata": {
        "id": "6AijB8KOL1i_"
      },
      "outputs": [],
      "source": []
    }
  ],
  "metadata": {
    "colab": {
      "provenance": []
    },
    "kernelspec": {
      "display_name": "Python 3",
      "name": "python3"
    },
    "language_info": {
      "name": "python"
    }
  },
  "nbformat": 4,
  "nbformat_minor": 0
}